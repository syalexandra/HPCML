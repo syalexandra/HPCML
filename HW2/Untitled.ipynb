{
 "cells": [
  {
   "cell_type": "code",
   "execution_count": 1,
   "id": "8f0eb444",
   "metadata": {},
   "outputs": [],
   "source": [
    "import torchvision\n",
    "import torch\n",
    "import argparse\n",
    "import torchvision.transforms as transforms\n",
    "import matplotlib.pyplot as plt\n",
    "import numpy as np\n",
    "import torch.nn as nn\n",
    "from resnet import *\n",
    "import torch.optim as optim\n",
    "from utils import progress_bar\n",
    "import time"
   ]
  },
  {
   "cell_type": "code",
   "execution_count": 2,
   "id": "baed8342",
   "metadata": {},
   "outputs": [
    {
     "name": "stderr",
     "output_type": "stream",
     "text": [
      "usage: ipykernel_launcher.py [-h] [--use-cuda]\n",
      "ipykernel_launcher.py: error: unrecognized arguments: -f /Users/yuesun/Library/Jupyter/runtime/kernel-58ad2c68-e74c-4519-9775-a7c0ecb02c5c.json\n"
     ]
    },
    {
     "ename": "SystemExit",
     "evalue": "2",
     "output_type": "error",
     "traceback": [
      "An exception has occurred, use %tb to see the full traceback.\n",
      "\u001b[0;31mSystemExit\u001b[0m\u001b[0;31m:\u001b[0m 2\n"
     ]
    },
    {
     "name": "stderr",
     "output_type": "stream",
     "text": [
      "/Library/Frameworks/Python.framework/Versions/3.9/lib/python3.9/site-packages/IPython/core/interactiveshell.py:3405: UserWarning: To exit: use 'exit', 'quit', or Ctrl-D.\n",
      "  warn(\"To exit: use 'exit', 'quit', or Ctrl-D.\", stacklevel=1)\n"
     ]
    }
   ],
   "source": [
    "parser=argparse.ArgumentParser()\n",
    "parser.add_argument('--use-cuda',action='store_true',help='use cuda')\n",
    "args=parser.parse_args()"
   ]
  },
  {
   "cell_type": "code",
   "execution_count": 4,
   "id": "e198b0d2",
   "metadata": {},
   "outputs": [],
   "source": [
    "device = 'cuda' if torch.cuda.is_available() else 'cpu'\n",
    "torchdevice=torch.device(device)"
   ]
  },
  {
   "cell_type": "code",
   "execution_count": 5,
   "id": "74f7c2dd",
   "metadata": {},
   "outputs": [],
   "source": [
    "transform=transforms.Compose([\n",
    "    transforms.RandomCrop(32,padding=4),\n",
    "    transforms.RandomHorizontalFlip(p=0.5),\n",
    "    transforms.ToTensor(),\n",
    "    transforms.Normalize((0.4914, 0.4822, 0.4465), (0.2023, 0.1994, 0.2010)),\n",
    "    \n",
    "])"
   ]
  },
  {
   "cell_type": "code",
   "execution_count": 6,
   "id": "85ef759b",
   "metadata": {},
   "outputs": [
    {
     "name": "stdout",
     "output_type": "stream",
     "text": [
      "Files already downloaded and verified\n",
      "Files already downloaded and verified\n"
     ]
    }
   ],
   "source": [
    "train_data=torchvision.datasets.CIFAR10(root='./data',train=True,download=True,transform =transform)\n",
    "test_data=torchvision.datasets.CIFAR10(root='./data',train=False,download=True,transform =transform)"
   ]
  },
  {
   "cell_type": "code",
   "execution_count": 12,
   "id": "b0c5239c",
   "metadata": {},
   "outputs": [
    {
     "name": "stdout",
     "output_type": "stream",
     "text": [
      "\n",
      "Epoch: 0\n",
      " [================================================================>]  Step: 1s630ms | Tot: 18m45s | Loss: 1.954 | Acc: 30.160% (15080/5000 391/391 1 \n",
      "data loading time for this epoch:  23.152794074002486 training time for this epoch:  1104.110671724994 total time for this epoch:  1127.2634657989965\n",
      "\n",
      "Epoch: 1\n",
      " [================================================================>]  Step: 1s895ms | Tot: 17m26s | Loss: 1.458 | Acc: 46.544% (23272/5000 391/391   \n",
      "data loading time for this epoch:  21.336233970992907 training time for this epoch:  1029.2299149980026 total time for this epoch:  1050.5661489689955\n",
      "\n",
      "Epoch: 2\n",
      " [================================================================>]  Step: 1s664ms | Tot: 18m21s | Loss: 1.182 | Acc: 57.512% (28756/5000 391/391 1 \n",
      "data loading time for this epoch:  22.163357160998203 training time for this epoch:  1082.496750458984 total time for this epoch:  1104.6601076199822\n",
      "\n",
      "Epoch: 3\n",
      " [================================================================>]  Step: 1s461ms | Tot: 16m42s | Loss: 0.984 | Acc: 64.976% (32488/5000 391/391 1 \n",
      "data loading time for this epoch:  20.808828944991546 training time for this epoch:  984.0013786480013 total time for this epoch:  1004.8102075929928\n",
      "\n",
      "Epoch: 4\n",
      " [================================================================>]  Step: 1s612ms | Tot: 16m6s | Loss: 0.842 | Acc: 70.264% (35132/5000 391/391 91 \n",
      "data loading time for this epoch:  20.3407231469846 training time for this epoch:  948.4101675040092 total time for this epoch:  968.7508906509938\n",
      "data loading time for all epochs:  107.80193729796974 training time for all epochs:  5148.248883333991 total time for all epochs:  5256.050820631961\n"
     ]
    }
   ],
   "source": [
    "\n",
    "kwargs = {'pin_memory': True} if device=='cuda' else {}\n",
    "trainloader = torch.utils.data.DataLoader(train_data, batch_size=128,\n",
    "                                          shuffle=True,num_workers=0,**kwargs)\n",
    "testloader = torch.utils.data.DataLoader(test_data, batch_size=100,\n",
    "                                          shuffle=True,num_workers=0,**kwargs)\n",
    "\n",
    "net = ResNet18()\n",
    "net = net.to(device)\n",
    "if device == 'cuda':\n",
    "    net = torch.nn.DataParallel(net)\n",
    "    cudnn.benchmark = True\n",
    "\n",
    "criterion = nn.CrossEntropyLoss()\n",
    "optimizer = optim.SGD(net.parameters(), lr=0.1,\n",
    "                      momentum=0.9, weight_decay=5e-4)\n",
    "scheduler = torch.optim.lr_scheduler.CosineAnnealingLR(optimizer, T_max=200)\n",
    "\n",
    "def train_model(epoch):\n",
    "    print('\\nEpoch: %d' % epoch)\n",
    "    net.train()\n",
    "    train_loss = 0\n",
    "    correct = 0\n",
    "    total = 0\n",
    "    dataloading_time=0\n",
    "    training_time=0\n",
    "    dataloading_start=time.perf_counter()\n",
    "    for batch_idx, (inputs, targets) in enumerate(trainloader):\n",
    "        dataloading_end=time.perf_counter()\n",
    "        dataloading_time+=(dataloading_end-dataloading_start)\n",
    "        \n",
    "        training_start=time.perf_counter()\n",
    "        inputs, targets = inputs.to(device), targets.to(device)\n",
    "        optimizer.zero_grad()\n",
    "        outputs = net(inputs)\n",
    "        loss = criterion(outputs, targets)\n",
    "        loss.backward()\n",
    "        optimizer.step()\n",
    "        training_end=time.perf_counter()\n",
    "        training_time+=(training_end-training_start)\n",
    "        \n",
    "        \n",
    "        train_loss += loss.item()\n",
    "        _, predicted = outputs.max(1)\n",
    "        total += targets.size(0)\n",
    "        correct += predicted.eq(targets).sum().item()\n",
    "\n",
    "        progress_bar(batch_idx, len(trainloader), 'Loss: %.3f | Acc: %.3f%% (%d/%d)'\n",
    "                     % (train_loss/(batch_idx+1), 100.*correct/total, correct, total))\n",
    "\n",
    "        dataloading_start=time.perf_counter()\n",
    "    total_time=dataloading_time+training_time\n",
    "    print(\"data loading time for this epoch: \",dataloading_time,\"training time for this epoch: \",training_time,\"total time for this epoch: \",total_time)\n",
    "    return dataloading_time,training_time,total_time\n",
    "    \n",
    "    \n",
    "def test_model(epoch):\n",
    "    global best_acc\n",
    "    net.eval()\n",
    "    test_loss = 0\n",
    "    correct = 0\n",
    "    total = 0\n",
    "    with torch.no_grad():\n",
    "        for batch_idx, (inputs, targets) in enumerate(testloader):\n",
    "            inputs, targets = inputs.to(device), targets.to(device)\n",
    "            outputs = net(inputs)\n",
    "            loss = criterion(outputs, targets)\n",
    "\n",
    "            test_loss += loss.item()\n",
    "            _, predicted = outputs.max(1)\n",
    "            total += targets.size(0)\n",
    "            correct += predicted.eq(targets).sum().item()\n",
    "\n",
    "            progress_bar(batch_idx, len(testloader), 'Loss: %.3f | Acc: %.3f%% (%d/%d)'\n",
    "                         % (test_loss/(batch_idx+1), 100.*correct/total, correct, total))\n",
    "\n",
    "\n",
    "best_acc = 0  # best test accuracy\n",
    "start_epoch = 0  # start from epoch 0 or last checkpoint epoch\n",
    "dataloadtime_time_all_epoch=0\n",
    "training_time_all_epoch=0\n",
    "total_time_all_epoch=0\n",
    "for epoch in range(start_epoch, start_epoch+5):\n",
    "    dataloading_time,training_time,total_time=train_model(epoch)\n",
    "    dataloadtime_time_all_epoch+=dataloading_time\n",
    "    training_time_all_epoch+=training_time\n",
    "    total_time_all_epoch+=total_time\n",
    "    #test_model(epoch)\n",
    "    scheduler.step()\n",
    "    \n",
    "print(\"data loading time for all epochs: \",dataloadtime_time_all_epoch/5,\"training time for all epochs: \",training_time_all_epoch/5,\"total time for all epochs: \",total_time_all_epoch/5)\n",
    "\n",
    "\n"
   ]
  },
  {
   "cell_type": "code",
   "execution_count": null,
   "id": "ba8dd1d0",
   "metadata": {},
   "outputs": [],
   "source": []
  },
  {
   "cell_type": "code",
   "execution_count": null,
   "id": "c5bbc682",
   "metadata": {},
   "outputs": [],
   "source": []
  },
  {
   "cell_type": "code",
   "execution_count": null,
   "id": "7d4c60a8",
   "metadata": {},
   "outputs": [],
   "source": []
  }
 ],
 "metadata": {
  "kernelspec": {
   "display_name": "Python 3 (ipykernel)",
   "language": "python",
   "name": "python3"
  },
  "language_info": {
   "codemirror_mode": {
    "name": "ipython",
    "version": 3
   },
   "file_extension": ".py",
   "mimetype": "text/x-python",
   "name": "python",
   "nbconvert_exporter": "python",
   "pygments_lexer": "ipython3",
   "version": "3.9.7"
  }
 },
 "nbformat": 4,
 "nbformat_minor": 5
}
